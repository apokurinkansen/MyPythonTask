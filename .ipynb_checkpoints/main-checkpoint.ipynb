{
 "cells": [
  {
   "cell_type": "code",
   "execution_count": 2,
   "id": "b9778e7b-1922-4b68-a80f-7e242c95983d",
   "metadata": {},
   "outputs": [],
   "source": [
    "from bs4 import BeautifulSoup\n",
    "import requests\n",
    "from selenium import webdriver\n",
    "from selenium.webdriver.common.by import By\n",
    "import time\n",
    "import chromedriver_binary\n",
    "import csv\n",
    "import re"
   ]
  },
  {
   "cell_type": "code",
   "execution_count": 3,
   "id": "4b95ddd3-f895-4057-9fd8-f8e5771d0938",
   "metadata": {},
   "outputs": [
    {
     "name": "stdout",
     "output_type": "stream",
     "text": [
      "numの現在の数：ページ数 1\n",
      "現在の取得カテゴリ番号 []\n",
      "rent_category:length 0\n"
     ]
    },
    {
     "ename": "NoSuchWindowException",
     "evalue": "Message: no such window: target window already closed\nfrom unknown error: web view not found\n  (Session info: chrome=108.0.5359.94)\n",
     "output_type": "error",
     "traceback": [
      "\u001b[0;31m---------------------------------------------------------------------------\u001b[0m",
      "\u001b[0;31mNoSuchWindowException\u001b[0m                     Traceback (most recent call last)",
      "\u001b[0;32m/var/folders/h4/zfrv2zhd7md2z9st31zn5bf40000gn/T/ipykernel_64908/348142664.py\u001b[0m in \u001b[0;36m<module>\u001b[0;34m\u001b[0m\n\u001b[1;32m     14\u001b[0m     \u001b[0mtime\u001b[0m\u001b[0;34m.\u001b[0m\u001b[0msleep\u001b[0m\u001b[0;34m(\u001b[0m\u001b[0;36m10\u001b[0m\u001b[0;34m)\u001b[0m\u001b[0;34m\u001b[0m\u001b[0;34m\u001b[0m\u001b[0m\n\u001b[1;32m     15\u001b[0m     \u001b[0;31m# 検索先のページのHTMLを取得\u001b[0m\u001b[0;34m\u001b[0m\u001b[0;34m\u001b[0m\u001b[0m\n\u001b[0;32m---> 16\u001b[0;31m     \u001b[0mhtml\u001b[0m \u001b[0;34m=\u001b[0m \u001b[0mdriver\u001b[0m\u001b[0;34m.\u001b[0m\u001b[0mpage_source\u001b[0m\u001b[0;34m.\u001b[0m\u001b[0mencode\u001b[0m\u001b[0;34m(\u001b[0m\u001b[0;34m'utf-8'\u001b[0m\u001b[0;34m)\u001b[0m\u001b[0;34m\u001b[0m\u001b[0;34m\u001b[0m\u001b[0m\n\u001b[0m\u001b[1;32m     17\u001b[0m     \u001b[0msoup\u001b[0m \u001b[0;34m=\u001b[0m \u001b[0mBeautifulSoup\u001b[0m\u001b[0;34m(\u001b[0m\u001b[0mhtml\u001b[0m\u001b[0;34m,\u001b[0m \u001b[0;34m'html.parser'\u001b[0m\u001b[0;34m)\u001b[0m\u001b[0;34m\u001b[0m\u001b[0;34m\u001b[0m\u001b[0m\n\u001b[1;32m     18\u001b[0m     \u001b[0mtime\u001b[0m\u001b[0;34m.\u001b[0m\u001b[0msleep\u001b[0m\u001b[0;34m(\u001b[0m\u001b[0;36m2\u001b[0m\u001b[0;34m)\u001b[0m\u001b[0;34m\u001b[0m\u001b[0;34m\u001b[0m\u001b[0m\n",
      "\u001b[0;32m~/opt/anaconda3/lib/python3.9/site-packages/selenium/webdriver/remote/webdriver.py\u001b[0m in \u001b[0;36mpage_source\u001b[0;34m(self)\u001b[0m\n\u001b[1;32m    677\u001b[0m             \u001b[0mdriver\u001b[0m\u001b[0;34m.\u001b[0m\u001b[0mpage_source\u001b[0m\u001b[0;34m\u001b[0m\u001b[0;34m\u001b[0m\u001b[0m\n\u001b[1;32m    678\u001b[0m         \"\"\"\n\u001b[0;32m--> 679\u001b[0;31m         \u001b[0;32mreturn\u001b[0m \u001b[0mself\u001b[0m\u001b[0;34m.\u001b[0m\u001b[0mexecute\u001b[0m\u001b[0;34m(\u001b[0m\u001b[0mCommand\u001b[0m\u001b[0;34m.\u001b[0m\u001b[0mGET_PAGE_SOURCE\u001b[0m\u001b[0;34m)\u001b[0m\u001b[0;34m[\u001b[0m\u001b[0;34m'value'\u001b[0m\u001b[0;34m]\u001b[0m\u001b[0;34m\u001b[0m\u001b[0;34m\u001b[0m\u001b[0m\n\u001b[0m\u001b[1;32m    680\u001b[0m \u001b[0;34m\u001b[0m\u001b[0m\n\u001b[1;32m    681\u001b[0m     \u001b[0;32mdef\u001b[0m \u001b[0mclose\u001b[0m\u001b[0;34m(\u001b[0m\u001b[0mself\u001b[0m\u001b[0;34m)\u001b[0m\u001b[0;34m:\u001b[0m\u001b[0;34m\u001b[0m\u001b[0;34m\u001b[0m\u001b[0m\n",
      "\u001b[0;32m~/opt/anaconda3/lib/python3.9/site-packages/selenium/webdriver/remote/webdriver.py\u001b[0m in \u001b[0;36mexecute\u001b[0;34m(self, driver_command, params)\u001b[0m\n\u001b[1;32m    319\u001b[0m         \u001b[0mresponse\u001b[0m \u001b[0;34m=\u001b[0m \u001b[0mself\u001b[0m\u001b[0;34m.\u001b[0m\u001b[0mcommand_executor\u001b[0m\u001b[0;34m.\u001b[0m\u001b[0mexecute\u001b[0m\u001b[0;34m(\u001b[0m\u001b[0mdriver_command\u001b[0m\u001b[0;34m,\u001b[0m \u001b[0mparams\u001b[0m\u001b[0;34m)\u001b[0m\u001b[0;34m\u001b[0m\u001b[0;34m\u001b[0m\u001b[0m\n\u001b[1;32m    320\u001b[0m         \u001b[0;32mif\u001b[0m \u001b[0mresponse\u001b[0m\u001b[0;34m:\u001b[0m\u001b[0;34m\u001b[0m\u001b[0;34m\u001b[0m\u001b[0m\n\u001b[0;32m--> 321\u001b[0;31m             \u001b[0mself\u001b[0m\u001b[0;34m.\u001b[0m\u001b[0merror_handler\u001b[0m\u001b[0;34m.\u001b[0m\u001b[0mcheck_response\u001b[0m\u001b[0;34m(\u001b[0m\u001b[0mresponse\u001b[0m\u001b[0;34m)\u001b[0m\u001b[0;34m\u001b[0m\u001b[0;34m\u001b[0m\u001b[0m\n\u001b[0m\u001b[1;32m    322\u001b[0m             response['value'] = self._unwrap_value(\n\u001b[1;32m    323\u001b[0m                 response.get('value', None))\n",
      "\u001b[0;32m~/opt/anaconda3/lib/python3.9/site-packages/selenium/webdriver/remote/errorhandler.py\u001b[0m in \u001b[0;36mcheck_response\u001b[0;34m(self, response)\u001b[0m\n\u001b[1;32m    240\u001b[0m                 \u001b[0malert_text\u001b[0m \u001b[0;34m=\u001b[0m \u001b[0mvalue\u001b[0m\u001b[0;34m[\u001b[0m\u001b[0;34m'alert'\u001b[0m\u001b[0;34m]\u001b[0m\u001b[0;34m.\u001b[0m\u001b[0mget\u001b[0m\u001b[0;34m(\u001b[0m\u001b[0;34m'text'\u001b[0m\u001b[0;34m)\u001b[0m\u001b[0;34m\u001b[0m\u001b[0;34m\u001b[0m\u001b[0m\n\u001b[1;32m    241\u001b[0m             \u001b[0;32mraise\u001b[0m \u001b[0mexception_class\u001b[0m\u001b[0;34m(\u001b[0m\u001b[0mmessage\u001b[0m\u001b[0;34m,\u001b[0m \u001b[0mscreen\u001b[0m\u001b[0;34m,\u001b[0m \u001b[0mstacktrace\u001b[0m\u001b[0;34m,\u001b[0m \u001b[0malert_text\u001b[0m\u001b[0;34m)\u001b[0m\u001b[0;34m\u001b[0m\u001b[0;34m\u001b[0m\u001b[0m\n\u001b[0;32m--> 242\u001b[0;31m         \u001b[0;32mraise\u001b[0m \u001b[0mexception_class\u001b[0m\u001b[0;34m(\u001b[0m\u001b[0mmessage\u001b[0m\u001b[0;34m,\u001b[0m \u001b[0mscreen\u001b[0m\u001b[0;34m,\u001b[0m \u001b[0mstacktrace\u001b[0m\u001b[0;34m)\u001b[0m\u001b[0;34m\u001b[0m\u001b[0;34m\u001b[0m\u001b[0m\n\u001b[0m\u001b[1;32m    243\u001b[0m \u001b[0;34m\u001b[0m\u001b[0m\n\u001b[1;32m    244\u001b[0m     \u001b[0;32mdef\u001b[0m \u001b[0m_value_or_default\u001b[0m\u001b[0;34m(\u001b[0m\u001b[0mself\u001b[0m\u001b[0;34m,\u001b[0m \u001b[0mobj\u001b[0m\u001b[0;34m,\u001b[0m \u001b[0mkey\u001b[0m\u001b[0;34m,\u001b[0m \u001b[0mdefault\u001b[0m\u001b[0;34m)\u001b[0m\u001b[0;34m:\u001b[0m\u001b[0;34m\u001b[0m\u001b[0;34m\u001b[0m\u001b[0m\n",
      "\u001b[0;31mNoSuchWindowException\u001b[0m: Message: no such window: target window already closed\nfrom unknown error: web view not found\n  (Session info: chrome=108.0.5359.94)\n"
     ]
    }
   ],
   "source": [
    "driver = webdriver.Chrome()\n",
    "rent_category = []\n",
    "num = 1\n",
    "length = len(rent_category)\n",
    "\n",
    "OBJECT_NUM = 1500\n",
    "\n",
    "while length < OBJECT_NUM:\n",
    "    print(\"numの現在の数：ページ数\",num)\n",
    "    print(\"現在の取得カテゴリ番号\",rent_category)\n",
    "    print(\"rent_category:length\",length)\n",
    "    time.sleep(5)\n",
    "    driver.get('https://www.f-takken.com/freins/rent/houses/area/items?listtype=houses&lang=ja&location=area&locate%5B0%5D=40131&locate%5B1%5D=40132&locate%5B2%5D=40133&locate%5B3%5D=40134&locate%5B4%5D=40135&locate%5B5%5D=40136&locate%5B6%5D=40137&order1=nn&order2=&limit=20&data_21=0&data_22=0&data_30=0&data_31=0&data_486=&data_486_code=&data_487=&data_487_code=&page={}&currentTabIndex=0'.format(num))\n",
    "    time.sleep(10)\n",
    "    # 検索先のページのHTMLを取得\n",
    "    html = driver.page_source.encode('utf-8')\n",
    "    soup = BeautifulSoup(html, 'html.parser')\n",
    "    time.sleep(2)\n",
    "    \n",
    "    # 表示されているカテゴリの番号を全て記憶 \n",
    "    for element in soup.find_all(\"li\",class_ = \"item list-tpl\"):\n",
    "        data_id = element.get(\"data-id\")\n",
    "        rent_category.append(data_id)\n",
    "        length = len(rent_category)\n",
    "        rent_category = list(set(rent_category))    \n",
    "    num = num+1\n",
    "print(rent_category)"
   ]
  },
  {
   "cell_type": "code",
   "execution_count": null,
   "id": "2f186f53-d7ef-4d5b-a1e5-0a5e5823ff82",
   "metadata": {},
   "outputs": [],
   "source": [
    "# 1000個のカテゴリ番号を保存できるまで、次のページに遷移する TODO ○\n",
    "# driverのpage = {}を変更していく TODO ○\n",
    "# whileでrent_categoryが1000より少ない時までnumを増やしてpageにformatする ○\n",
    "#取得の繰り返し ○\n",
    "\n",
    "#全て取得したら、driverに詳細のページのURLでカテゴリ番号を追記して表示 ○\n",
    "#表示したら、必要な情報を取得、保存"
   ]
  },
  {
   "cell_type": "code",
   "execution_count": null,
   "id": "bfc82ff6-f00a-4609-aa57-64b200b0243c",
   "metadata": {},
   "outputs": [],
   "source": [
    "count = 0\n",
    "# 書き込み\n",
    "with open('RENT.csv', 'w') as csv_file:\n",
    "    fieldnames = ['家賃','物件番号','情報更新日','次回更新予定日','所在地','建物名','沿線・駅・交通','専有面積','専用庭面積','間取り','間取り内訳','バルコニー','サービスルーム数'\n",
    "                 ,'小学校区','中学校区','駐車場','駐車場：形式','駐車場：状況','駐車場備考','駐車場敷金','敷金','礼金','精算方式','保証金','保証金償却','管理費','共益費'\n",
    "                 ,'雑費','家賃保証会社','家賃保証・保証費用等','保険','更新料','その他一時金','施設費用','その他費用','賃貸借区分','契約期間','特優賃区分','管理員の勤務形態','敷地延長','建物構造'\n",
    "                 ,'建物工法','最適用途','階建','階','築年月','現況','入居可能時期','設備','特記事項','備考','取引態様','担当者','担当者連絡先'] # 54\n",
    "    writer = csv.DictWriter(csv_file, fieldnames=fieldnames)\n",
    "    writer.writeheader()\n",
    "\n",
    "# 物件数分回す\n",
    "while len(rent_category) > count:\n",
    "    tmp = []\n",
    "    data_set = int(rent_category[count])\n",
    "    time.sleep(5)\n",
    "    driver.get('https://www.f-takken.com/freins/items/{}'.format(data_set))\n",
    "    time.sleep(10)\n",
    "    # 検索先のページのHTMLを取得\n",
    "    html = driver.page_source.encode('utf-8')\n",
    "    soup = BeautifulSoup(html, 'html.parser')\n",
    "    time.sleep(2)\n",
    "    count +=1\n",
    "\n",
    "    # 賃料のみ最初に取得\n",
    "    housePrice = soup.find(\"span\",class_ = \"price-area\")\n",
    "    if housePrice == None:\n",
    "        continue\n",
    "    price = re.sub(r\"[^\\d.]\", \"\", housePrice.text)\n",
    "    tmp.append(price)\n",
    "\n",
    "    # 各種カテゴリーの値取得\n",
    "    for category in soup.find_all(\"table\",class_ = \"detail-list\"):\n",
    "        time.sleep(1)\n",
    "        for decom in category.find_all(\"td\",class_ = \"category\" ):\n",
    "            decom.decompose()\n",
    "        for element in category.find_all(\"td\"):\n",
    "            tmp.append(element.text)\n",
    "    print(\"tmpのlen：\",len(tmp))\n",
    "    \n",
    "    # カテゴリの数が等しくない時、飛ばす\n",
    "    if len(tmp)!= len(fieldnames):\n",
    "        delete_ = 0\n",
    "        delete_ += 1\n",
    "        print(\"カテゴリの数が違うので飛ばします\")\n",
    "        print(\"飛ばした数\",delete_)\n",
    "        continue\n",
    "\n",
    "    # 書き込み\n",
    "    with open('RENT.csv', 'a') as csv_file:\n",
    "        contents = {}\n",
    "        writer = csv.writer(csv_file)\n",
    "        writer.writerow(tmp)\n",
    "\n",
    "print(\"成功しました\")\n"
   ]
  },
  {
   "cell_type": "code",
   "execution_count": null,
   "id": "99236d7a-828d-4437-ab62-59b7f6e29d5d",
   "metadata": {},
   "outputs": [],
   "source": []
  },
  {
   "cell_type": "code",
   "execution_count": null,
   "id": "28eb8206-f153-4f13-9c9a-0bea82c29ee4",
   "metadata": {},
   "outputs": [],
   "source": []
  }
 ],
 "metadata": {
  "kernelspec": {
   "display_name": "Python 3 (ipykernel)",
   "language": "python",
   "name": "python3"
  },
  "language_info": {
   "codemirror_mode": {
    "name": "ipython",
    "version": 3
   },
   "file_extension": ".py",
   "mimetype": "text/x-python",
   "name": "python",
   "nbconvert_exporter": "python",
   "pygments_lexer": "ipython3",
   "version": "3.9.13"
  }
 },
 "nbformat": 4,
 "nbformat_minor": 5
}
