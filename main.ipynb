{
 "cells": [
  {
   "cell_type": "code",
   "execution_count": 155,
   "id": "b9778e7b-1922-4b68-a80f-7e242c95983d",
   "metadata": {},
   "outputs": [],
   "source": [
    "from bs4 import BeautifulSoup\n",
    "import requests\n",
    "from selenium import webdriver\n",
    "from selenium.webdriver.common.by import By\n",
    "import time\n",
    "import chromedriver_binary\n",
    "import csv\n",
    "import re"
   ]
  },
  {
   "cell_type": "code",
   "execution_count": 145,
   "id": "4b95ddd3-f895-4057-9fd8-f8e5771d0938",
   "metadata": {},
   "outputs": [
    {
     "name": "stdout",
     "output_type": "stream",
     "text": [
      "numの現在の数：ページ数 1\n",
      "現在の取得カテゴリ番号 []\n",
      "rent_category:length 0\n",
      "['98520113', '98511964', '98534363', '99266113', '99167417', '98415533', '98990005', '99307398', '99308774', '98568710', '99293053', '98333107', '99287205', '99317946', '98389286', '98886218', '99316161', '98514452', '98554977', '99133089']\n"
     ]
    }
   ],
   "source": [
    "driver = webdriver.Chrome()\n",
    "rent_category = []\n",
    "num = 1\n",
    "length = len(rent_category)\n",
    "\n",
    "while length <= 10:\n",
    "    print(\"numの現在の数：ページ数\",num)\n",
    "    print(\"現在の取得カテゴリ番号\",rent_category)\n",
    "    print(\"rent_category:length\",length)\n",
    "    driver.get('https://www.f-takken.com/freins/rent/houses/area/items?listtype=houses&lang=ja&location=area&locate%5B0%5D=40131&locate%5B1%5D=40132&locate%5B2%5D=40133&locate%5B3%5D=40134&locate%5B4%5D=40135&locate%5B5%5D=40136&locate%5B6%5D=40137&order1=nn&order2=&limit=20&data_21=0&data_22=0&data_30=0&data_31=0&data_486=&data_486_code=&data_487=&data_487_code=&page={}&currentTabIndex=0'.format(num))\n",
    "    time.sleep(5)\n",
    "    # 検索先のページのHTMLを取得\n",
    "    html = driver.page_source.encode('utf-8')\n",
    "    soup = BeautifulSoup(html, 'html.parser')\n",
    "\n",
    "    # 表示されているカテゴリの番号を全て記憶 \n",
    "    for element in soup.find_all(\"li\",class_ = \"item list-tpl\"):\n",
    "        data_id = element.get(\"data-id\")\n",
    "        rent_category.append(data_id)\n",
    "        length = len(rent_category)\n",
    "        time.sleep(5)\n",
    "        rent_category = list(set(rent_category))    \n",
    "    num = num+1\n",
    "print(rent_category)\n",
    "\n"
   ]
  },
  {
   "cell_type": "code",
   "execution_count": 146,
   "id": "2f186f53-d7ef-4d5b-a1e5-0a5e5823ff82",
   "metadata": {},
   "outputs": [],
   "source": [
    "# 1000個のカテゴリ番号を保存できるまで、次のページに遷移する TODO ○\n",
    "# driverのpage = {}を変更していく TODO ○\n",
    "# whileでrent_categoryが1000より少ない時までnumを増やしてpageにformatする ○\n",
    "#取得の繰り返し ○\n",
    "\n",
    "#全て取得したら、driverに詳細のページのURLでカテゴリ番号を追記して表示 ○\n",
    "#表示したら、必要な情報を取得、保存"
   ]
  },
  {
   "cell_type": "code",
   "execution_count": 159,
   "id": "bfc82ff6-f00a-4609-aa57-64b200b0243c",
   "metadata": {},
   "outputs": [
    {
     "name": "stdout",
     "output_type": "stream",
     "text": [
      "98520113\n",
      "賃料 3.7万円\n"
     ]
    }
   ],
   "source": [
    "\n",
    "count = 0\n",
    "data_set = int(rent_category[count])\n",
    "print(data_set)\n",
    "driver.get('https://www.f-takken.com/freins/items/{}'.format(data_set))\n",
    "time.sleep(5)\n",
    "# 検索先のページのHTMLを取得\n",
    "html = driver.page_source.encode('utf-8')\n",
    "soup = BeautifulSoup(html, 'html.parser')\n",
    "count +=1\n",
    "\n",
    "a = soup.find(\"span\",class_ = \"price-area\")\n",
    "\n",
    "price = re.sub(r\"[^\\d.]\", \"\", a.text)\n",
    "\n",
    "# 書き込み\n",
    "with open('RENT.csv', 'w') as csv_file:\n",
    "    fieldnames = ['家賃']\n",
    "    writer = csv.DictWriter(csv_file, fieldnames=fieldnames)\n",
    "    writer.writeheader()\n",
    "    writer.writerow({'家賃': price})\n",
    "print(a.text)\n"
   ]
  },
  {
   "cell_type": "code",
   "execution_count": null,
   "id": "412e176b-b237-4827-8fb1-3c5ea6e67620",
   "metadata": {},
   "outputs": [],
   "source": [
    "# ページ遷移\n",
    "driver.get(\"https://www.f-takken.com/freins/items/{}\".format(search_box))"
   ]
  }
 ],
 "metadata": {
  "kernelspec": {
   "display_name": "Python 3 (ipykernel)",
   "language": "python",
   "name": "python3"
  },
  "language_info": {
   "codemirror_mode": {
    "name": "ipython",
    "version": 3
   },
   "file_extension": ".py",
   "mimetype": "text/x-python",
   "name": "python",
   "nbconvert_exporter": "python",
   "pygments_lexer": "ipython3",
   "version": "3.9.13"
  }
 },
 "nbformat": 4,
 "nbformat_minor": 5
}
