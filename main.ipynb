{
 "cells": [
  {
   "cell_type": "code",
   "execution_count": 81,
   "id": "b9778e7b-1922-4b68-a80f-7e242c95983d",
   "metadata": {},
   "outputs": [],
   "source": [
    "from bs4 import BeautifulSoup\n",
    "import requests\n",
    "from selenium import webdriver\n",
    "from selenium.webdriver.common.by import By\n",
    "import time\n",
    "import chromedriver_binary"
   ]
  },
  {
   "cell_type": "code",
   "execution_count": 94,
   "id": "4b95ddd3-f895-4057-9fd8-f8e5771d0938",
   "metadata": {},
   "outputs": [
    {
     "name": "stdout",
     "output_type": "stream",
     "text": [
      "['98849257', '98832815', '99177351', '99317728', '99272715', '99306355', '99314815', '99279318', '99226734', '99309879', '99307676', '99309396', '99314876', '99298634', '99290130', '99316614', '99294643', '99316611', '99316642', '99299022']\n"
     ]
    }
   ],
   "source": [
    "driver = webdriver.Chrome()\n",
    "rent_category = []\n",
    "driver.get('https://www.f-takken.com/freins/rent/houses/area/items?listtype=houses&lang=ja&location=area&locate%5B0%5D=40131&locate%5B1%5D=40132&locate%5B2%5D=40133&locate%5B3%5D=40134&locate%5B4%5D=40135&locate%5B5%5D=40136&locate%5B6%5D=40137&order1=nn&order2=&limit=20&data_21=0&data_22=0&data_30=0&data_31=0&data_486=&data_486_code=&data_487=&data_487_code=&page=1&currentTabIndex=0')\n",
    "time.sleep(5)\n",
    "\n",
    "# 検索先のページのHTMLを取得\n",
    "html = driver.page_source.encode('utf-8')\n",
    "soup = BeautifulSoup(html, 'html.parser')\n",
    "\n",
    "# 表示されているカテゴリの番号を全て記憶 \n",
    "for element in soup.find_all(\"li\",class_ = \"item list-tpl\"):\n",
    "    data_id = element.get(\"data-id\")\n",
    "    rent_category.append(data_id)\n",
    "    time.sleep(5)\n",
    "\n",
    "print(rent_category)\n",
    "\n",
    "# 1000個のカテゴリ番号を保存できるまで、次のページに遷移する\n",
    "\n",
    "\n",
    "\n",
    "\n",
    "\n",
    "\n",
    "\n",
    "\n",
    "\n",
    "\n"
   ]
  },
  {
   "cell_type": "code",
   "execution_count": 74,
   "id": "2f186f53-d7ef-4d5b-a1e5-0a5e5823ff82",
   "metadata": {},
   "outputs": [],
   "source": [
    "# ページ遷移\n",
    "driver.get(\"https://www.f-takken.com/freins/items/{}\".format(search_box))"
   ]
  },
  {
   "cell_type": "code",
   "execution_count": null,
   "id": "bfc82ff6-f00a-4609-aa57-64b200b0243c",
   "metadata": {},
   "outputs": [],
   "source": []
  },
  {
   "cell_type": "code",
   "execution_count": null,
   "id": "412e176b-b237-4827-8fb1-3c5ea6e67620",
   "metadata": {},
   "outputs": [],
   "source": []
  }
 ],
 "metadata": {
  "kernelspec": {
   "display_name": "Python 3 (ipykernel)",
   "language": "python",
   "name": "python3"
  },
  "language_info": {
   "codemirror_mode": {
    "name": "ipython",
    "version": 3
   },
   "file_extension": ".py",
   "mimetype": "text/x-python",
   "name": "python",
   "nbconvert_exporter": "python",
   "pygments_lexer": "ipython3",
   "version": "3.9.13"
  }
 },
 "nbformat": 4,
 "nbformat_minor": 5
}
