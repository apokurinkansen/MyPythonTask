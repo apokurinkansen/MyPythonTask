{
 "cells": [
  {
   "cell_type": "code",
   "execution_count": 2,
   "id": "b9778e7b-1922-4b68-a80f-7e242c95983d",
   "metadata": {},
   "outputs": [],
   "source": [
    "from bs4 import BeautifulSoup\n",
    "import requests"
   ]
  },
  {
   "cell_type": "code",
   "execution_count": 3,
   "id": "0a125e9b-c15b-4de9-a255-d976893f1e8e",
   "metadata": {
    "tags": []
   },
   "outputs": [],
   "source": [
    "load_url = \"https://www.f-takken.com/freins/rent/houses/area/items?listtype=houses&lang=ja&location=area&locate%5B0%5D=40131&locate%5B1%5D=40132&locate%5B2%5D=40133&locate%5B3%5D=40134&locate%5B4%5D=40135&locate%5B5%5D=40136&locate%5B6%5D=40137&order1=nn&order2=&limit=20&data_21=0&data_22=0&data_30=0&data_31=0&data_486=&data_486_code=&data_487=&data_487_code=&page=1&currentTabIndex=0\""
   ]
  },
  {
   "cell_type": "code",
   "execution_count": 4,
   "id": "f6709bd1-0a78-4125-bbf2-b3a14f1abfa8",
   "metadata": {},
   "outputs": [
    {
     "name": "stdout",
     "output_type": "stream",
     "text": [
      "https://www.f-takken.com/freins/rent/houses/area/items?listtype=houses&lang=ja&location=area&locate%5B0%5D=40131&locate%5B1%5D=40132&locate%5B2%5D=40133&locate%5B3%5D=40134&locate%5B4%5D=40135&locate%5B5%5D=40136&locate%5B6%5D=40137&order1=nn&order2=&limit=20&data_21=0&data_22=0&data_30=0&data_31=0&data_486=&data_486_code=&data_487=&data_487_code=&page=1&currentTabIndex=0\n"
     ]
    }
   ],
   "source": [
    "print(load_url)"
   ]
  },
  {
   "cell_type": "code",
   "execution_count": 6,
   "id": "8708b3fe-ce10-4819-b7a4-8c4e5b84262d",
   "metadata": {},
   "outputs": [],
   "source": [
    "r = requests.get(load_url)\n",
    "soup = BeautifulSoup(r.text)"
   ]
  },
  {
   "cell_type": "code",
   "execution_count": null,
   "id": "91148b7a-f1e5-4b52-915e-2f32689f62e0",
   "metadata": {},
   "outputs": [],
   "source": []
  }
 ],
 "metadata": {
  "kernelspec": {
   "display_name": "Python 3 (ipykernel)",
   "language": "python",
   "name": "python3"
  },
  "language_info": {
   "codemirror_mode": {
    "name": "ipython",
    "version": 3
   },
   "file_extension": ".py",
   "mimetype": "text/x-python",
   "name": "python",
   "nbconvert_exporter": "python",
   "pygments_lexer": "ipython3",
   "version": "3.9.13"
  }
 },
 "nbformat": 4,
 "nbformat_minor": 5
}
